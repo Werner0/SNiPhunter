{
 "cells": [
  {
   "cell_type": "code",
   "execution_count": 27,
   "metadata": {
    "collapsed": false
   },
   "outputs": [],
   "source": [
    "#Query response time per result\n",
    "import matplotlib.pyplot as plt\n",
    "import numpy as np\n",
    "d1= [7349, 10864, 6443, 5945, 10664, 7673, 6651, 7270, 9796, 6138]\n",
    "d2 = [7300, 6830, 7014, 8643, 6104, 9976, 7150, 7998, 5951, 6029]\n",
    "data = [d1,d2]\n",
    "fig = plt.figure(1, figsize=(9, 6))\n",
    "ax = fig.add_subplot(111)\n",
    "ax.set_title('Query response time per result', y=1.05)\n",
    "ax.set_xlabel('Amount of results returned')\n",
    "ax.set_ylabel('Time (Milliseconds)')\n",
    "plt.boxplot(data)\n",
    "plt.show()"
   ]
  },
  {
   "cell_type": "code",
   "execution_count": 26,
   "metadata": {
    "collapsed": false
   },
   "outputs": [],
   "source": [
    "#Query response time per query\n",
    "import matplotlib.pyplot as plt\n",
    "import numpy as np\n",
    "d1= [4976, 7802, 6556, 5201, 6050, 6761, 5197, 7807, 7299, 5638]\n",
    "d2 = [18825, 13182, 15579, 14515, 12799, 12462, 14227, 29575, 13035, 15219]\n",
    "d3 = [20403, 20870, 20715, 18128, 22268, 20390, 20371, 23613, 18494, 18557]\n",
    "data = [d1,d2, d3]\n",
    "fig = plt.figure(1, figsize=(9, 6))\n",
    "ax = fig.add_subplot(111)\n",
    "ax.set_title('Query response time per query', y=1.05)\n",
    "ax.set_xlabel('Amount of queries made')\n",
    "ax.set_ylabel('Time (Milliseconds)')\n",
    "plt.boxplot(data)\n",
    "plt.show()"
   ]
  },
  {
   "cell_type": "code",
   "execution_count": 25,
   "metadata": {
    "collapsed": false
   },
   "outputs": [
    {
     "name": "stdout",
     "output_type": "stream",
     "text": [
      "7026.1\n",
      "164.933333333\n"
     ]
    }
   ],
   "source": [
    "#Regression\n",
    "x = [1, 2, 3]\n",
    "y = [6328.7, 15941.8, 20380.9]\n",
    "m,b = np.polyfit(x, y, 1)\n",
    "print(m)\n",
    "print(b)"
   ]
  },
  {
   "cell_type": "code",
   "execution_count": null,
   "metadata": {
    "collapsed": true
   },
   "outputs": [],
   "source": []
  }
 ],
 "metadata": {
  "kernelspec": {
   "display_name": "Python 3",
   "language": "python",
   "name": "python3"
  },
  "language_info": {
   "codemirror_mode": {
    "name": "ipython",
    "version": 3
   },
   "file_extension": ".py",
   "mimetype": "text/x-python",
   "name": "python",
   "nbconvert_exporter": "python",
   "pygments_lexer": "ipython3",
   "version": "3.4.3"
  }
 },
 "nbformat": 4,
 "nbformat_minor": 0
}
